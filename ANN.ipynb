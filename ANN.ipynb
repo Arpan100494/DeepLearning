{
 "cells": [
  {
   "cell_type": "code",
   "execution_count": 1,
   "metadata": {},
   "outputs": [],
   "source": [
    "#!pip install theano\n",
    "#!pip install tensorflow\n",
    "#!pip install keras"
   ]
  },
  {
   "cell_type": "code",
   "execution_count": 2,
   "metadata": {},
   "outputs": [],
   "source": [
    "import warnings\n",
    "warnings.filterwarnings(\"ignore\")\n",
    "import pandas as pd\n",
    "import numpy as np"
   ]
  },
  {
   "cell_type": "code",
   "execution_count": 3,
   "metadata": {},
   "outputs": [],
   "source": [
    "data = pd.read_csv(r\"D:\\ANN-Udemy\\P16-Artificial-Neural-Networks\\Artificial_Neural_Networks\\Churn_Modelling.csv\")"
   ]
  },
  {
   "cell_type": "code",
   "execution_count": 4,
   "metadata": {},
   "outputs": [
    {
     "data": {
      "text/html": [
       "<div>\n",
       "<style scoped>\n",
       "    .dataframe tbody tr th:only-of-type {\n",
       "        vertical-align: middle;\n",
       "    }\n",
       "\n",
       "    .dataframe tbody tr th {\n",
       "        vertical-align: top;\n",
       "    }\n",
       "\n",
       "    .dataframe thead th {\n",
       "        text-align: right;\n",
       "    }\n",
       "</style>\n",
       "<table border=\"1\" class=\"dataframe\">\n",
       "  <thead>\n",
       "    <tr style=\"text-align: right;\">\n",
       "      <th></th>\n",
       "      <th>RowNumber</th>\n",
       "      <th>CustomerId</th>\n",
       "      <th>Surname</th>\n",
       "      <th>CreditScore</th>\n",
       "      <th>Geography</th>\n",
       "      <th>Gender</th>\n",
       "      <th>Age</th>\n",
       "      <th>Tenure</th>\n",
       "      <th>Balance</th>\n",
       "      <th>NumOfProducts</th>\n",
       "      <th>HasCrCard</th>\n",
       "      <th>IsActiveMember</th>\n",
       "      <th>EstimatedSalary</th>\n",
       "      <th>Exited</th>\n",
       "    </tr>\n",
       "  </thead>\n",
       "  <tbody>\n",
       "    <tr>\n",
       "      <th>0</th>\n",
       "      <td>1</td>\n",
       "      <td>15634602</td>\n",
       "      <td>Hargrave</td>\n",
       "      <td>619</td>\n",
       "      <td>France</td>\n",
       "      <td>Female</td>\n",
       "      <td>42</td>\n",
       "      <td>2</td>\n",
       "      <td>0.00</td>\n",
       "      <td>1</td>\n",
       "      <td>1</td>\n",
       "      <td>1</td>\n",
       "      <td>101348.88</td>\n",
       "      <td>1</td>\n",
       "    </tr>\n",
       "    <tr>\n",
       "      <th>1</th>\n",
       "      <td>2</td>\n",
       "      <td>15647311</td>\n",
       "      <td>Hill</td>\n",
       "      <td>608</td>\n",
       "      <td>Spain</td>\n",
       "      <td>Female</td>\n",
       "      <td>41</td>\n",
       "      <td>1</td>\n",
       "      <td>83807.86</td>\n",
       "      <td>1</td>\n",
       "      <td>0</td>\n",
       "      <td>1</td>\n",
       "      <td>112542.58</td>\n",
       "      <td>0</td>\n",
       "    </tr>\n",
       "    <tr>\n",
       "      <th>2</th>\n",
       "      <td>3</td>\n",
       "      <td>15619304</td>\n",
       "      <td>Onio</td>\n",
       "      <td>502</td>\n",
       "      <td>France</td>\n",
       "      <td>Female</td>\n",
       "      <td>42</td>\n",
       "      <td>8</td>\n",
       "      <td>159660.80</td>\n",
       "      <td>3</td>\n",
       "      <td>1</td>\n",
       "      <td>0</td>\n",
       "      <td>113931.57</td>\n",
       "      <td>1</td>\n",
       "    </tr>\n",
       "    <tr>\n",
       "      <th>3</th>\n",
       "      <td>4</td>\n",
       "      <td>15701354</td>\n",
       "      <td>Boni</td>\n",
       "      <td>699</td>\n",
       "      <td>France</td>\n",
       "      <td>Female</td>\n",
       "      <td>39</td>\n",
       "      <td>1</td>\n",
       "      <td>0.00</td>\n",
       "      <td>2</td>\n",
       "      <td>0</td>\n",
       "      <td>0</td>\n",
       "      <td>93826.63</td>\n",
       "      <td>0</td>\n",
       "    </tr>\n",
       "    <tr>\n",
       "      <th>4</th>\n",
       "      <td>5</td>\n",
       "      <td>15737888</td>\n",
       "      <td>Mitchell</td>\n",
       "      <td>850</td>\n",
       "      <td>Spain</td>\n",
       "      <td>Female</td>\n",
       "      <td>43</td>\n",
       "      <td>2</td>\n",
       "      <td>125510.82</td>\n",
       "      <td>1</td>\n",
       "      <td>1</td>\n",
       "      <td>1</td>\n",
       "      <td>79084.10</td>\n",
       "      <td>0</td>\n",
       "    </tr>\n",
       "  </tbody>\n",
       "</table>\n",
       "</div>"
      ],
      "text/plain": [
       "   RowNumber  CustomerId   Surname  CreditScore Geography  Gender  Age  \\\n",
       "0          1    15634602  Hargrave          619    France  Female   42   \n",
       "1          2    15647311      Hill          608     Spain  Female   41   \n",
       "2          3    15619304      Onio          502    France  Female   42   \n",
       "3          4    15701354      Boni          699    France  Female   39   \n",
       "4          5    15737888  Mitchell          850     Spain  Female   43   \n",
       "\n",
       "   Tenure    Balance  NumOfProducts  HasCrCard  IsActiveMember  \\\n",
       "0       2       0.00              1          1               1   \n",
       "1       1   83807.86              1          0               1   \n",
       "2       8  159660.80              3          1               0   \n",
       "3       1       0.00              2          0               0   \n",
       "4       2  125510.82              1          1               1   \n",
       "\n",
       "   EstimatedSalary  Exited  \n",
       "0        101348.88       1  \n",
       "1        112542.58       0  \n",
       "2        113931.57       1  \n",
       "3         93826.63       0  \n",
       "4         79084.10       0  "
      ]
     },
     "execution_count": 4,
     "metadata": {},
     "output_type": "execute_result"
    }
   ],
   "source": [
    "data.head()"
   ]
  },
  {
   "cell_type": "code",
   "execution_count": 5,
   "metadata": {},
   "outputs": [
    {
     "data": {
      "text/html": [
       "<div>\n",
       "<style scoped>\n",
       "    .dataframe tbody tr th:only-of-type {\n",
       "        vertical-align: middle;\n",
       "    }\n",
       "\n",
       "    .dataframe tbody tr th {\n",
       "        vertical-align: top;\n",
       "    }\n",
       "\n",
       "    .dataframe thead th {\n",
       "        text-align: right;\n",
       "    }\n",
       "</style>\n",
       "<table border=\"1\" class=\"dataframe\">\n",
       "  <thead>\n",
       "    <tr style=\"text-align: right;\">\n",
       "      <th></th>\n",
       "      <th>CustomerId</th>\n",
       "      <th>Surname</th>\n",
       "      <th>CreditScore</th>\n",
       "      <th>Geography</th>\n",
       "      <th>Gender</th>\n",
       "      <th>Age</th>\n",
       "      <th>Tenure</th>\n",
       "      <th>Balance</th>\n",
       "      <th>NumOfProducts</th>\n",
       "      <th>HasCrCard</th>\n",
       "      <th>IsActiveMember</th>\n",
       "      <th>EstimatedSalary</th>\n",
       "    </tr>\n",
       "  </thead>\n",
       "  <tbody>\n",
       "    <tr>\n",
       "      <th>0</th>\n",
       "      <td>15634602</td>\n",
       "      <td>Hargrave</td>\n",
       "      <td>619</td>\n",
       "      <td>France</td>\n",
       "      <td>Female</td>\n",
       "      <td>42</td>\n",
       "      <td>2</td>\n",
       "      <td>0.00</td>\n",
       "      <td>1</td>\n",
       "      <td>1</td>\n",
       "      <td>1</td>\n",
       "      <td>101348.88</td>\n",
       "    </tr>\n",
       "    <tr>\n",
       "      <th>1</th>\n",
       "      <td>15647311</td>\n",
       "      <td>Hill</td>\n",
       "      <td>608</td>\n",
       "      <td>Spain</td>\n",
       "      <td>Female</td>\n",
       "      <td>41</td>\n",
       "      <td>1</td>\n",
       "      <td>83807.86</td>\n",
       "      <td>1</td>\n",
       "      <td>0</td>\n",
       "      <td>1</td>\n",
       "      <td>112542.58</td>\n",
       "    </tr>\n",
       "    <tr>\n",
       "      <th>2</th>\n",
       "      <td>15619304</td>\n",
       "      <td>Onio</td>\n",
       "      <td>502</td>\n",
       "      <td>France</td>\n",
       "      <td>Female</td>\n",
       "      <td>42</td>\n",
       "      <td>8</td>\n",
       "      <td>159660.80</td>\n",
       "      <td>3</td>\n",
       "      <td>1</td>\n",
       "      <td>0</td>\n",
       "      <td>113931.57</td>\n",
       "    </tr>\n",
       "    <tr>\n",
       "      <th>3</th>\n",
       "      <td>15701354</td>\n",
       "      <td>Boni</td>\n",
       "      <td>699</td>\n",
       "      <td>France</td>\n",
       "      <td>Female</td>\n",
       "      <td>39</td>\n",
       "      <td>1</td>\n",
       "      <td>0.00</td>\n",
       "      <td>2</td>\n",
       "      <td>0</td>\n",
       "      <td>0</td>\n",
       "      <td>93826.63</td>\n",
       "    </tr>\n",
       "    <tr>\n",
       "      <th>4</th>\n",
       "      <td>15737888</td>\n",
       "      <td>Mitchell</td>\n",
       "      <td>850</td>\n",
       "      <td>Spain</td>\n",
       "      <td>Female</td>\n",
       "      <td>43</td>\n",
       "      <td>2</td>\n",
       "      <td>125510.82</td>\n",
       "      <td>1</td>\n",
       "      <td>1</td>\n",
       "      <td>1</td>\n",
       "      <td>79084.10</td>\n",
       "    </tr>\n",
       "  </tbody>\n",
       "</table>\n",
       "</div>"
      ],
      "text/plain": [
       "   CustomerId   Surname  CreditScore Geography  Gender  Age  Tenure  \\\n",
       "0    15634602  Hargrave          619    France  Female   42       2   \n",
       "1    15647311      Hill          608     Spain  Female   41       1   \n",
       "2    15619304      Onio          502    France  Female   42       8   \n",
       "3    15701354      Boni          699    France  Female   39       1   \n",
       "4    15737888  Mitchell          850     Spain  Female   43       2   \n",
       "\n",
       "     Balance  NumOfProducts  HasCrCard  IsActiveMember  EstimatedSalary  \n",
       "0       0.00              1          1               1        101348.88  \n",
       "1   83807.86              1          0               1        112542.58  \n",
       "2  159660.80              3          1               0        113931.57  \n",
       "3       0.00              2          0               0         93826.63  \n",
       "4  125510.82              1          1               1         79084.10  "
      ]
     },
     "execution_count": 5,
     "metadata": {},
     "output_type": "execute_result"
    }
   ],
   "source": [
    "x = data.iloc[:,1:-1]\n",
    "x.head()"
   ]
  },
  {
   "cell_type": "code",
   "execution_count": 6,
   "metadata": {},
   "outputs": [],
   "source": [
    "y = data[[\"Exited\"]]"
   ]
  },
  {
   "cell_type": "code",
   "execution_count": 7,
   "metadata": {},
   "outputs": [],
   "source": [
    "from sklearn.model_selection import train_test_split\n",
    "from sklearn.preprocessing import LabelEncoder,StandardScaler"
   ]
  },
  {
   "cell_type": "code",
   "execution_count": 8,
   "metadata": {},
   "outputs": [],
   "source": [
    "x.drop(\"Surname\",axis=1,inplace=True)"
   ]
  },
  {
   "cell_type": "code",
   "execution_count": 9,
   "metadata": {},
   "outputs": [],
   "source": [
    "le = LabelEncoder()\n"
   ]
  },
  {
   "cell_type": "code",
   "execution_count": 10,
   "metadata": {},
   "outputs": [],
   "source": [
    "x[\"Gender\"] = le.fit_transform(x[\"Gender\"])"
   ]
  },
  {
   "cell_type": "code",
   "execution_count": 11,
   "metadata": {},
   "outputs": [],
   "source": [
    "x[\"Geography\"] = le.fit_transform(x[\"Geography\"])"
   ]
  },
  {
   "cell_type": "code",
   "execution_count": 12,
   "metadata": {},
   "outputs": [],
   "source": [
    "new_Geography = pd.get_dummies(x[\"Geography\"],prefix=\"Geo\",drop_first=True)"
   ]
  },
  {
   "cell_type": "code",
   "execution_count": 13,
   "metadata": {},
   "outputs": [],
   "source": [
    "x = pd.concat([x,new_Geography],axis=1)\n",
    "x.drop(\"Geography\",axis=1,inplace=True)"
   ]
  },
  {
   "cell_type": "code",
   "execution_count": 14,
   "metadata": {},
   "outputs": [],
   "source": [
    "x[[\"Balance\",\"EstimatedSalary\"]] = x[[\"Balance\",\"EstimatedSalary\"]].astype(int)"
   ]
  },
  {
   "cell_type": "code",
   "execution_count": 15,
   "metadata": {},
   "outputs": [
    {
     "data": {
      "text/html": [
       "<div>\n",
       "<style scoped>\n",
       "    .dataframe tbody tr th:only-of-type {\n",
       "        vertical-align: middle;\n",
       "    }\n",
       "\n",
       "    .dataframe tbody tr th {\n",
       "        vertical-align: top;\n",
       "    }\n",
       "\n",
       "    .dataframe thead th {\n",
       "        text-align: right;\n",
       "    }\n",
       "</style>\n",
       "<table border=\"1\" class=\"dataframe\">\n",
       "  <thead>\n",
       "    <tr style=\"text-align: right;\">\n",
       "      <th></th>\n",
       "      <th>CustomerId</th>\n",
       "      <th>CreditScore</th>\n",
       "      <th>Gender</th>\n",
       "      <th>Age</th>\n",
       "      <th>Tenure</th>\n",
       "      <th>Balance</th>\n",
       "      <th>NumOfProducts</th>\n",
       "      <th>HasCrCard</th>\n",
       "      <th>IsActiveMember</th>\n",
       "      <th>EstimatedSalary</th>\n",
       "      <th>Geo_1</th>\n",
       "      <th>Geo_2</th>\n",
       "    </tr>\n",
       "  </thead>\n",
       "  <tbody>\n",
       "    <tr>\n",
       "      <th>0</th>\n",
       "      <td>15634602</td>\n",
       "      <td>619</td>\n",
       "      <td>0</td>\n",
       "      <td>42</td>\n",
       "      <td>2</td>\n",
       "      <td>0</td>\n",
       "      <td>1</td>\n",
       "      <td>1</td>\n",
       "      <td>1</td>\n",
       "      <td>101348</td>\n",
       "      <td>0</td>\n",
       "      <td>0</td>\n",
       "    </tr>\n",
       "    <tr>\n",
       "      <th>1</th>\n",
       "      <td>15647311</td>\n",
       "      <td>608</td>\n",
       "      <td>0</td>\n",
       "      <td>41</td>\n",
       "      <td>1</td>\n",
       "      <td>83807</td>\n",
       "      <td>1</td>\n",
       "      <td>0</td>\n",
       "      <td>1</td>\n",
       "      <td>112542</td>\n",
       "      <td>0</td>\n",
       "      <td>1</td>\n",
       "    </tr>\n",
       "    <tr>\n",
       "      <th>2</th>\n",
       "      <td>15619304</td>\n",
       "      <td>502</td>\n",
       "      <td>0</td>\n",
       "      <td>42</td>\n",
       "      <td>8</td>\n",
       "      <td>159660</td>\n",
       "      <td>3</td>\n",
       "      <td>1</td>\n",
       "      <td>0</td>\n",
       "      <td>113931</td>\n",
       "      <td>0</td>\n",
       "      <td>0</td>\n",
       "    </tr>\n",
       "    <tr>\n",
       "      <th>3</th>\n",
       "      <td>15701354</td>\n",
       "      <td>699</td>\n",
       "      <td>0</td>\n",
       "      <td>39</td>\n",
       "      <td>1</td>\n",
       "      <td>0</td>\n",
       "      <td>2</td>\n",
       "      <td>0</td>\n",
       "      <td>0</td>\n",
       "      <td>93826</td>\n",
       "      <td>0</td>\n",
       "      <td>0</td>\n",
       "    </tr>\n",
       "    <tr>\n",
       "      <th>4</th>\n",
       "      <td>15737888</td>\n",
       "      <td>850</td>\n",
       "      <td>0</td>\n",
       "      <td>43</td>\n",
       "      <td>2</td>\n",
       "      <td>125510</td>\n",
       "      <td>1</td>\n",
       "      <td>1</td>\n",
       "      <td>1</td>\n",
       "      <td>79084</td>\n",
       "      <td>0</td>\n",
       "      <td>1</td>\n",
       "    </tr>\n",
       "  </tbody>\n",
       "</table>\n",
       "</div>"
      ],
      "text/plain": [
       "   CustomerId  CreditScore  Gender  Age  Tenure  Balance  NumOfProducts  \\\n",
       "0    15634602          619       0   42       2        0              1   \n",
       "1    15647311          608       0   41       1    83807              1   \n",
       "2    15619304          502       0   42       8   159660              3   \n",
       "3    15701354          699       0   39       1        0              2   \n",
       "4    15737888          850       0   43       2   125510              1   \n",
       "\n",
       "   HasCrCard  IsActiveMember  EstimatedSalary  Geo_1  Geo_2  \n",
       "0          1               1           101348      0      0  \n",
       "1          0               1           112542      0      1  \n",
       "2          1               0           113931      0      0  \n",
       "3          0               0            93826      0      0  \n",
       "4          1               1            79084      0      1  "
      ]
     },
     "execution_count": 15,
     "metadata": {},
     "output_type": "execute_result"
    }
   ],
   "source": [
    "x.head()"
   ]
  },
  {
   "cell_type": "code",
   "execution_count": 16,
   "metadata": {},
   "outputs": [
    {
     "data": {
      "text/plain": [
       "((8000, 12), (2000, 12), (8000, 1), (2000, 1))"
      ]
     },
     "execution_count": 16,
     "metadata": {},
     "output_type": "execute_result"
    }
   ],
   "source": [
    "X_train,X_test,Y_train,Y_test = train_test_split(x,y,test_size=0.2,random_state=0)\n",
    "X_train.shape,X_test.shape,Y_train.shape,Y_test.shape"
   ]
  },
  {
   "cell_type": "markdown",
   "metadata": {},
   "source": [
    "# Scale the data"
   ]
  },
  {
   "cell_type": "code",
   "execution_count": 17,
   "metadata": {},
   "outputs": [
    {
     "data": {
      "text/plain": [
       "array([[-0.20216686,  0.16958176, -1.09168714, ...,  1.10642907,\n",
       "        -0.5698444 ,  1.74309049],\n",
       "       [ 0.80704397, -2.30455945,  0.91601335, ..., -0.74865592,\n",
       "         1.75486502, -0.57369368],\n",
       "       [-1.51908128, -1.19119591, -1.09168714, ...,  1.48532999,\n",
       "        -0.5698444 , -0.57369368],\n",
       "       ...,\n",
       "       [-1.63233785,  0.9015152 ,  0.91601335, ...,  1.41231335,\n",
       "        -0.5698444 , -0.57369368],\n",
       "       [-0.38173152, -0.62420521, -1.09168714, ...,  0.84432697,\n",
       "        -0.5698444 ,  1.74309049],\n",
       "       [-1.37508365, -0.28401079, -1.09168714, ...,  0.32472867,\n",
       "         1.75486502, -0.57369368]])"
      ]
     },
     "execution_count": 17,
     "metadata": {},
     "output_type": "execute_result"
    }
   ],
   "source": [
    "sc = StandardScaler().fit(X_train)\n",
    "sc_X_train = sc.transform(X_train)\n",
    "sc_X_test = sc.transform(X_test)\n",
    "sc_X_train"
   ]
  },
  {
   "cell_type": "code",
   "execution_count": 18,
   "metadata": {},
   "outputs": [],
   "source": [
    "sc_X_train = pd.DataFrame(sc_X_train, columns = X_train.columns)\n",
    "sc_X_test = pd.DataFrame(sc_X_test, columns = X_test.columns)"
   ]
  },
  {
   "cell_type": "code",
   "execution_count": 19,
   "metadata": {},
   "outputs": [
    {
     "name": "stderr",
     "output_type": "stream",
     "text": [
      "Using TensorFlow backend.\n"
     ]
    }
   ],
   "source": [
    "import keras\n",
    "from keras.models import Sequential\n",
    "from keras.layers import Dense"
   ]
  },
  {
   "cell_type": "code",
   "execution_count": 21,
   "metadata": {},
   "outputs": [],
   "source": [
    "classifiers = Sequential()"
   ]
  },
  {
   "cell_type": "code",
   "execution_count": 35,
   "metadata": {},
   "outputs": [],
   "source": [
    "classifiers.add(Dense(output_dim=6,input_dim=12,init=\"uniform\",activation=\"relu\"))\n",
    "classifiers.add(Dense(output_dim=6,init=\"uniform\",activation=\"relu\"))\n",
    "classifiers.add(Dense(output_dim=1,init=\"uniform\",activation=\"sigmoid\"))\n",
    "classifiers.compile(optimizer=\"adam\",loss=\"binary_crossentropy\",metrics=[\"accuracy\"])"
   ]
  },
  {
   "cell_type": "code",
   "execution_count": 53,
   "metadata": {
    "scrolled": false
   },
   "outputs": [
    {
     "name": "stdout",
     "output_type": "stream",
     "text": [
      "Epoch 1/60\n",
      "8000/8000 [==============================] - 2s 233us/step - loss: 0.4031 - acc: 0.8332\n",
      "Epoch 2/60\n",
      "8000/8000 [==============================] - 2s 234us/step - loss: 0.4028 - acc: 0.8346\n",
      "Epoch 3/60\n",
      "8000/8000 [==============================] - 2s 234us/step - loss: 0.4026 - acc: 0.8356\n",
      "Epoch 4/60\n",
      "8000/8000 [==============================] - 2s 236us/step - loss: 0.4018 - acc: 0.8352\n",
      "Epoch 5/60\n",
      "8000/8000 [==============================] - 2s 237us/step - loss: 0.4013 - acc: 0.8356\n",
      "Epoch 6/60\n",
      "8000/8000 [==============================] - 2s 237us/step - loss: 0.4014 - acc: 0.8364\n",
      "Epoch 7/60\n",
      "8000/8000 [==============================] - 2s 238us/step - loss: 0.4017 - acc: 0.8352\n",
      "Epoch 8/60\n",
      "8000/8000 [==============================] - 2s 238us/step - loss: 0.4007 - acc: 0.8351\n",
      "Epoch 9/60\n",
      "8000/8000 [==============================] - 2s 235us/step - loss: 0.4008 - acc: 0.8369\n",
      "Epoch 10/60\n",
      "8000/8000 [==============================] - 2s 232us/step - loss: 0.4010 - acc: 0.8364\n",
      "Epoch 11/60\n",
      "8000/8000 [==============================] - 2s 234us/step - loss: 0.4001 - acc: 0.8354\n",
      "Epoch 12/60\n",
      "8000/8000 [==============================] - 2s 234us/step - loss: 0.4002 - acc: 0.8376\n",
      "Epoch 13/60\n",
      "8000/8000 [==============================] - 2s 237us/step - loss: 0.4000 - acc: 0.8356\n",
      "Epoch 14/60\n",
      "8000/8000 [==============================] - 2s 236us/step - loss: 0.4002 - acc: 0.8354\n",
      "Epoch 15/60\n",
      "8000/8000 [==============================] - 2s 239us/step - loss: 0.4003 - acc: 0.8360\n",
      "Epoch 16/60\n",
      "8000/8000 [==============================] - 2s 237us/step - loss: 0.3999 - acc: 0.8374\n",
      "Epoch 17/60\n",
      "8000/8000 [==============================] - 2s 237us/step - loss: 0.3996 - acc: 0.8371\n",
      "Epoch 18/60\n",
      "8000/8000 [==============================] - 2s 241us/step - loss: 0.3993 - acc: 0.8374\n",
      "Epoch 19/60\n",
      "8000/8000 [==============================] - 2s 236us/step - loss: 0.3996 - acc: 0.8354\n",
      "Epoch 20/60\n",
      "8000/8000 [==============================] - 2s 236us/step - loss: 0.4000 - acc: 0.8364\n",
      "Epoch 21/60\n",
      "8000/8000 [==============================] - 2s 236us/step - loss: 0.3993 - acc: 0.8369\n",
      "Epoch 22/60\n",
      "8000/8000 [==============================] - 2s 234us/step - loss: 0.3991 - acc: 0.8361\n",
      "Epoch 23/60\n",
      "8000/8000 [==============================] - 2s 233us/step - loss: 0.3992 - acc: 0.8370\n",
      "Epoch 24/60\n",
      "8000/8000 [==============================] - 2s 234us/step - loss: 0.3991 - acc: 0.8366\n",
      "Epoch 25/60\n",
      "8000/8000 [==============================] - 2s 247us/step - loss: 0.3991 - acc: 0.8360\n",
      "Epoch 26/60\n",
      "8000/8000 [==============================] - 2s 233us/step - loss: 0.3995 - acc: 0.8362\n",
      "Epoch 27/60\n",
      "8000/8000 [==============================] - 2s 235us/step - loss: 0.3988 - acc: 0.8376\n",
      "Epoch 28/60\n",
      "8000/8000 [==============================] - 2s 238us/step - loss: 0.3991 - acc: 0.8369\n",
      "Epoch 29/60\n",
      "8000/8000 [==============================] - 2s 253us/step - loss: 0.3989 - acc: 0.8376\n",
      "Epoch 30/60\n",
      "8000/8000 [==============================] - 2s 245us/step - loss: 0.3992 - acc: 0.8359\n",
      "Epoch 31/60\n",
      "8000/8000 [==============================] - 2s 240us/step - loss: 0.3988 - acc: 0.8391\n",
      "Epoch 32/60\n",
      "8000/8000 [==============================] - 2s 236us/step - loss: 0.3991 - acc: 0.8351\n",
      "Epoch 33/60\n",
      "8000/8000 [==============================] - 2s 234us/step - loss: 0.3984 - acc: 0.8379\n",
      "Epoch 34/60\n",
      "8000/8000 [==============================] - 2s 235us/step - loss: 0.3989 - acc: 0.8364\n",
      "Epoch 35/60\n",
      "8000/8000 [==============================] - 2s 233us/step - loss: 0.3981 - acc: 0.8359\n",
      "Epoch 36/60\n",
      "8000/8000 [==============================] - 2s 233us/step - loss: 0.3988 - acc: 0.8367\n",
      "Epoch 37/60\n",
      "8000/8000 [==============================] - 2s 234us/step - loss: 0.3991 - acc: 0.8360\n",
      "Epoch 38/60\n",
      "8000/8000 [==============================] - 2s 235us/step - loss: 0.3988 - acc: 0.8357\n",
      "Epoch 39/60\n",
      "8000/8000 [==============================] - 2s 232us/step - loss: 0.3983 - acc: 0.8371\n",
      "Epoch 40/60\n",
      "8000/8000 [==============================] - 2s 234us/step - loss: 0.3984 - acc: 0.8369\n",
      "Epoch 41/60\n",
      "8000/8000 [==============================] - 2s 232us/step - loss: 0.3985 - acc: 0.8361\n",
      "Epoch 42/60\n",
      "8000/8000 [==============================] - 2s 233us/step - loss: 0.3984 - acc: 0.8364\n",
      "Epoch 43/60\n",
      "8000/8000 [==============================] - 2s 235us/step - loss: 0.3985 - acc: 0.8366\n",
      "Epoch 44/60\n",
      "8000/8000 [==============================] - 2s 234us/step - loss: 0.3986 - acc: 0.8370\n",
      "Epoch 45/60\n",
      "8000/8000 [==============================] - 2s 232us/step - loss: 0.3986 - acc: 0.8354\n",
      "Epoch 46/60\n",
      "8000/8000 [==============================] - 2s 232us/step - loss: 0.3984 - acc: 0.8364\n",
      "Epoch 47/60\n",
      "8000/8000 [==============================] - 2s 236us/step - loss: 0.3980 - acc: 0.8357\n",
      "Epoch 48/60\n",
      "8000/8000 [==============================] - 2s 232us/step - loss: 0.3981 - acc: 0.8355\n",
      "Epoch 49/60\n",
      "8000/8000 [==============================] - 2s 233us/step - loss: 0.3984 - acc: 0.8356\n",
      "Epoch 50/60\n",
      "8000/8000 [==============================] - 2s 237us/step - loss: 0.3980 - acc: 0.8355\n",
      "Epoch 51/60\n",
      "8000/8000 [==============================] - 2s 232us/step - loss: 0.3977 - acc: 0.8354\n",
      "Epoch 52/60\n",
      "8000/8000 [==============================] - 2s 232us/step - loss: 0.3983 - acc: 0.8354\n",
      "Epoch 53/60\n",
      "8000/8000 [==============================] - 2s 230us/step - loss: 0.3979 - acc: 0.8351\n",
      "Epoch 54/60\n",
      "8000/8000 [==============================] - 2s 232us/step - loss: 0.3979 - acc: 0.8352\n",
      "Epoch 55/60\n",
      "8000/8000 [==============================] - 2s 231us/step - loss: 0.3980 - acc: 0.8366\n",
      "Epoch 56/60\n",
      "8000/8000 [==============================] - 2s 230us/step - loss: 0.3976 - acc: 0.8346\n",
      "Epoch 57/60\n",
      "8000/8000 [==============================] - 2s 230us/step - loss: 0.3980 - acc: 0.8349\n",
      "Epoch 58/60\n",
      "8000/8000 [==============================] - 2s 229us/step - loss: 0.3979 - acc: 0.8341\n",
      "Epoch 59/60\n",
      "8000/8000 [==============================] - 2s 229us/step - loss: 0.3977 - acc: 0.8364\n",
      "Epoch 60/60\n",
      "8000/8000 [==============================] - 2s 230us/step - loss: 0.3974 - acc: 0.8357\n"
     ]
    },
    {
     "data": {
      "text/plain": [
       "<keras.callbacks.History at 0x16d6b22d9c8>"
      ]
     },
     "execution_count": 53,
     "metadata": {},
     "output_type": "execute_result"
    }
   ],
   "source": [
    "classifiers.fit(sc_X_train,Y_train,nb_epoch=60,batch_size=10)"
   ]
  },
  {
   "cell_type": "code",
   "execution_count": 37,
   "metadata": {},
   "outputs": [
    {
     "data": {
      "text/plain": [
       "array([[1552,  280],\n",
       "       [  43,  125]], dtype=int64)"
      ]
     },
     "execution_count": 37,
     "metadata": {},
     "output_type": "execute_result"
    }
   ],
   "source": [
    "y_pred = classifiers.predict(sc_X_test)\n",
    "y_pred = (y_pred > 0.5)\n",
    "from sklearn.metrics import confusion_matrix\n",
    "confusion_matrix(y_pred,Y_test)"
   ]
  },
  {
   "cell_type": "markdown",
   "metadata": {},
   "source": [
    "### Use our ANN model to predict if the customer with the following informations will leave the bank:\n",
    "* Geography: France\n",
    "* Credit Score: 600\n",
    "* Gender: Male\n",
    "* Age: 40 years old\n",
    "* Tenure: 3 years\n",
    "* Balance: $60000\n",
    "Number of Products: 2\n",
    "* Does this customer have a credit card ? Yes\n",
    "Is this customer an Active Member: Yes\n",
    "Estimated Salary: $50000"
   ]
  },
  {
   "cell_type": "code",
   "execution_count": 48,
   "metadata": {},
   "outputs": [
    {
     "data": {
      "text/html": [
       "<div>\n",
       "<style scoped>\n",
       "    .dataframe tbody tr th:only-of-type {\n",
       "        vertical-align: middle;\n",
       "    }\n",
       "\n",
       "    .dataframe tbody tr th {\n",
       "        vertical-align: top;\n",
       "    }\n",
       "\n",
       "    .dataframe thead th {\n",
       "        text-align: right;\n",
       "    }\n",
       "</style>\n",
       "<table border=\"1\" class=\"dataframe\">\n",
       "  <thead>\n",
       "    <tr style=\"text-align: right;\">\n",
       "      <th></th>\n",
       "      <th>CustomerId</th>\n",
       "      <th>CreditScore</th>\n",
       "      <th>Gender</th>\n",
       "      <th>Age</th>\n",
       "      <th>Tenure</th>\n",
       "      <th>Balance</th>\n",
       "      <th>NumOfProducts</th>\n",
       "      <th>HasCrCard</th>\n",
       "      <th>IsActiveMember</th>\n",
       "      <th>EstimatedSalary</th>\n",
       "      <th>Geo_1</th>\n",
       "      <th>Geo_2</th>\n",
       "    </tr>\n",
       "  </thead>\n",
       "  <tbody>\n",
       "    <tr>\n",
       "      <th>0</th>\n",
       "      <td>15402455</td>\n",
       "      <td>600</td>\n",
       "      <td>1</td>\n",
       "      <td>40</td>\n",
       "      <td>3</td>\n",
       "      <td>60000</td>\n",
       "      <td>2</td>\n",
       "      <td>1</td>\n",
       "      <td>1</td>\n",
       "      <td>50000</td>\n",
       "      <td>0</td>\n",
       "      <td>1</td>\n",
       "    </tr>\n",
       "  </tbody>\n",
       "</table>\n",
       "</div>"
      ],
      "text/plain": [
       "   CustomerId  CreditScore  Gender  Age  Tenure  Balance  NumOfProducts  \\\n",
       "0    15402455          600       1   40       3    60000              2   \n",
       "\n",
       "   HasCrCard  IsActiveMember  EstimatedSalary  Geo_1  Geo_2  \n",
       "0          1               1            50000      0      1  "
      ]
     },
     "execution_count": 48,
     "metadata": {},
     "output_type": "execute_result"
    }
   ],
   "source": [
    "demo = pd.DataFrame(pd.Series({\"CustomerId\":15402455,\"CreditScore\":600,\"Gender\":1,\"Age\":40,\"Tenure\":3,\"Balance\":60000,\\\n",
    "              \"NumOfProducts\":2,\"HasCrCard\":1,\"IsActiveMember\":1,\"EstimatedSalary\":50000,\"Geo_1\":0,\"Geo_2\":1})).T\n",
    "demo"
   ]
  },
  {
   "cell_type": "code",
   "execution_count": 49,
   "metadata": {},
   "outputs": [
    {
     "data": {
      "text/plain": [
       "array([[-4.03021086, -0.52111599,  0.91601335,  0.10961719, -0.68538967,\n",
       "        -0.25690156,  0.8095029 ,  0.64259497,  0.9687384 , -0.87202466,\n",
       "        -0.5698444 ,  1.74309049]])"
      ]
     },
     "execution_count": 49,
     "metadata": {},
     "output_type": "execute_result"
    }
   ],
   "source": [
    "demo_X_train = sc.transform(demo)\n",
    "demo_X_train"
   ]
  },
  {
   "cell_type": "code",
   "execution_count": 56,
   "metadata": {},
   "outputs": [
    {
     "name": "stdout",
     "output_type": "stream",
     "text": [
      "[[False]]\n"
     ]
    }
   ],
   "source": [
    "pred = classifiers.predict(demo_X_train)\n",
    "print(pred>0.5)"
   ]
  },
  {
   "cell_type": "markdown",
   "metadata": {},
   "source": [
    "# Evaluationg ANN using K-Fold Cross Validation"
   ]
  },
  {
   "cell_type": "code",
   "execution_count": 22,
   "metadata": {},
   "outputs": [],
   "source": [
    "from keras.wrappers.scikit_learn import KerasClassifier\n",
    "from sklearn.model_selection import cross_val_score\n",
    "from keras.layers import Dropout"
   ]
  },
  {
   "cell_type": "code",
   "execution_count": 23,
   "metadata": {},
   "outputs": [],
   "source": [
    "def build_classifier():\n",
    "    classifiers = Sequential()\n",
    "    classifiers.add(Dense(output_dim=6,input_dim=12,init=\"uniform\",activation=\"relu\"))\n",
    "    classifiers.add(Dropout(p=0.1))# add in case of overfitting\n",
    "    classifiers.add(Dense(output_dim=6,init=\"uniform\",activation=\"relu\"))\n",
    "    classifiers.add(Dense(output_dim=1,init=\"uniform\",activation=\"sigmoid\"))\n",
    "    classifiers.compile(optimizer=\"adam\",loss=\"binary_crossentropy\",metrics=[\"accuracy\"])\n",
    "    return classifiers"
   ]
  },
  {
   "cell_type": "code",
   "execution_count": 24,
   "metadata": {},
   "outputs": [],
   "source": [
    "classifiers = KerasClassifier(build_fn=build_classifier,nb_epoch=60,batch_size=10)\n",
    "accuracy = cross_val_score(estimator=classifiers,X = sc_X_train,y = Y_train,cv=10,n_jobs=-1)"
   ]
  },
  {
   "cell_type": "code",
   "execution_count": 25,
   "metadata": {},
   "outputs": [
    {
     "data": {
      "text/plain": [
       "0.7959999969601632"
      ]
     },
     "execution_count": 25,
     "metadata": {},
     "output_type": "execute_result"
    }
   ],
   "source": [
    "accuracy.mean()"
   ]
  },
  {
   "cell_type": "code",
   "execution_count": 26,
   "metadata": {},
   "outputs": [
    {
     "data": {
      "text/plain": [
       "0.010105690620981692"
      ]
     },
     "execution_count": 26,
     "metadata": {},
     "output_type": "execute_result"
    }
   ],
   "source": [
    "accuracy.std()"
   ]
  },
  {
   "cell_type": "markdown",
   "metadata": {},
   "source": [
    "# Improving the accuracy by tuning parameters"
   ]
  },
  {
   "cell_type": "code",
   "execution_count": null,
   "metadata": {},
   "outputs": [],
   "source": [
    "# It will take little time\n",
    "import keras\n",
    "from keras.models import Sequential\n",
    "from keras.layers import Dense\n",
    "from keras.wrappers.scikit_learn import KerasClassifier\n",
    "from sklearn.model_selection import cross_val_score, GridSearchCV\n",
    "from keras.layers import Dropout\n",
    "\n",
    "# function for the cross validation and the gridsearch\n",
    "def build_classifier(opt):\n",
    "    classifiers = Sequential()\n",
    "    classifiers.add(Dense(output_dim=6,input_dim=12,init=\"uniform\",activation=\"relu\"))\n",
    "    classifiers.add(Dropout(p=0.1))# add in case of overfitting\n",
    "    classifiers.add(Dense(output_dim=6,init=\"uniform\",activation=\"relu\"))\n",
    "    classifiers.add(Dense(output_dim=1,init=\"uniform\",activation=\"sigmoid\"))\n",
    "    classifiers.compile(optimizer=opt,loss=\"binary_crossentropy\",metrics=[\"accuracy\"])\n",
    "    return classifiers\n",
    "\n",
    "classifiers = KerasClassifier(build_fn=build_classifier)\n",
    "parameters = {\"nb_epoch\":[20,25,32],\"batch_size\":[100,400,500],\"opt\":[\"adam\",\"rmsprop\"]}\n",
    "grid_search = GridSearchCV(estimator=classifiers,param_grid=parameters,scoring=\"accuracy\",cv=10)\n",
    "grid_search.fit(sc_X_train,Y_train)\n",
    "best_parameters = grid_search.best_params_\n",
    "best_accuracy = grid_search.best_score_\n",
    "print(\"best parameters:\",best_parameters)\n",
    "print(\"best accuracy:\",best_accuracy)"
   ]
  },
  {
   "cell_type": "markdown",
   "metadata": {},
   "source": [
    "# =========================================================="
   ]
  },
  {
   "cell_type": "code",
   "execution_count": null,
   "metadata": {},
   "outputs": [],
   "source": []
  }
 ],
 "metadata": {
  "kernelspec": {
   "display_name": "Python 3",
   "language": "python",
   "name": "python3"
  },
  "language_info": {
   "codemirror_mode": {
    "name": "ipython",
    "version": 3
   },
   "file_extension": ".py",
   "mimetype": "text/x-python",
   "name": "python",
   "nbconvert_exporter": "python",
   "pygments_lexer": "ipython3",
   "version": "3.7.6"
  }
 },
 "nbformat": 4,
 "nbformat_minor": 2
}
